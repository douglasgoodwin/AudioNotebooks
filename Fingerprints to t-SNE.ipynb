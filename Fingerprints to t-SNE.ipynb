{
 "cells": [
  {
   "cell_type": "markdown",
   "id": "24edec69-2a21-4ade-bdb9-e44d35930aa5",
   "metadata": {},
   "source": [
    "This converts fingerprints.npy to .tsv formatted t-SNE embeddings and plots of those embeddings in the tsne/ and plot/ folders respectively. If you add multiple values to perplexity and initial_dims then all combinations will be computed (in parallel). Good perplexities are in the range 1-200 with the best range around 30-100. Good initial_dims are in the range 30 and higher, with the dimensionality of your input data being the highest possible value (e.g., a 32x32 fingerprint would have a highest possible initial_dims value of 32x32=1024).\n",
    "\n",
    "Change the \"mode\" to try different t-SNE variations.\n",
    "\n",
    "\"fingerprints\" will only use fingerprints.npy\n",
    "\"predicted_labels\" will only use predicted_labels.npy\n",
    "\"predicted_encoding\" will only use predicted_encoding.npy\n",
    "\"combined\" will use all of the above data"
   ]
  },
  {
   "cell_type": "code",
   "execution_count": 3,
   "id": "061556c1-30d0-4883-a1fa-396a6ab53c02",
   "metadata": {},
   "outputs": [],
   "source": [
    "import os\n",
    "from matplotlib import pyplot as plt\n",
    "from time import time\n",
    "from utils import normalize\n",
    "from utils.bhtsne import bh_tsne\n",
    "from os.path import join\n",
    "from pathos.multiprocessing import ProcessingPool as Pool\n",
    "import numpy as np\n",
    "import itertools"
   ]
  },
  {
   "cell_type": "code",
   "execution_count": 4,
   "id": "2c3bcb5b",
   "metadata": {},
   "outputs": [],
   "source": [
    "def mkdir_p(path):\n",
    "    try:\n",
    "        os.makedirs(path, exist_ok=True)\n",
    "    except OSError as error:\n",
    "        if error.errno != errno.EEXIST:\n",
    "            raise\n",
    "\n",
    "data_root = 'data/drums/'\n",
    "initial_dims = [30]\n",
    "perplexities = [30]\n",
    "mode = 'fingerprints'\n",
    "# mode = 'predicted_labels'\n",
    "# mode = 'predicted_encoding'\n",
    "# mode = 'combined'"
   ]
  },
  {
   "cell_type": "code",
   "execution_count": 5,
   "id": "72fabb04-b289-4804-a0cf-428b4611df1d",
   "metadata": {},
   "outputs": [
    {
     "name": "stdout",
     "output_type": "stream",
     "text": [
      "(459, 1024)\n"
     ]
    }
   ],
   "source": [
    "def save_tsv(data, fn):\n",
    "    np.savetxt(fn, data, fmt='%.5f', delimiter='\\t')\n",
    "\n",
    "def tsne(data, data_root, prefix, initial_dims=30, perplexity=30):\n",
    "    mkdir_p(join(data_root, 'tsne'))\n",
    "    mkdir_p(join(data_root, 'plot'))\n",
    "    \n",
    "    figsize = (32, 32)\n",
    "    pointsize = 2\n",
    "\n",
    "    X_2d = list(bh_tsne(data, initial_dims=initial_dims, perplexity=perplexity, no_dims=2))\n",
    "    X_2d = normalize(np.array(X_2d))\n",
    "    save_tsv(X_2d, join(data_root, 'tsne', f'{prefix}.{initial_dims}.{perplexity}.2d.tsv'))\n",
    "    \n",
    "    plt.figure(figsize=figsize)\n",
    "    plt.scatter(X_2d[:, 0], X_2d[:, 1], edgecolor='none', s=pointsize)\n",
    "    plt.tight_layout()\n",
    "    plt.savefig(join(data_root, 'plot', f'{prefix}.{initial_dims}.{perplexity}.png'))\n",
    "    plt.close()\n",
    "    \n",
    "    X_3d = list(bh_tsne(data, initial_dims=initial_dims, perplexity=perplexity, no_dims=3))\n",
    "    X_3d = normalize(np.array(X_3d))\n",
    "    save_tsv(X_3d, join(data_root, 'tsne', f'{prefix}.{initial_dims}.{perplexity}.3d.tsv'))\n",
    "    \n",
    "    plt.figure(figsize=figsize)\n",
    "    plt.scatter(X_2d[:, 0], X_2d[:, 1], edgecolor='none', s=pointsize, c=X_3d)\n",
    "    plt.tight_layout()\n",
    "    plt.savefig(join(data_root, 'plot', f'{prefix}.{initial_dims}.{perplexity}.jpg'))\n",
    "    plt.close()\n",
    "\n",
    "if mode == 'fingerprints' or mode == 'combined':\n",
    "    fingerprints = np.load(join(data_root, 'fingerprints.npy'))\n",
    "    fingerprints = fingerprints.reshape(len(fingerprints), -1)\n",
    "if mode == 'predicted_labels' or mode == 'combined':\n",
    "    predicted_labels = np.load(join(data_root, 'predicted_labels.npy'))\n",
    "    predicted_labels -= predicted_labels.min()\n",
    "    predicted_labels /= predicted_labels.max()\n",
    "if mode == 'predicted_encoding' or mode == 'combined':\n",
    "    predicted_encoding = np.load(join(data_root, 'predicted_encoding.npy'))\n",
    "    std = predicted_encoding.std(axis=0)\n",
    "    predicted_encoding = predicted_encoding[:, std > 0] / std[std > 0]\n",
    "\n",
    "if mode == 'fingerprints':\n",
    "    data = fingerprints\n",
    "elif mode == 'predicted_labels':\n",
    "    data = predicted_labels\n",
    "elif mode == 'predicted_encoding':\n",
    "    data = predicted_encoding\n",
    "elif mode == 'combined':\n",
    "    data = np.hstack((fingerprints, predicted_labels, predicted_encoding))\n",
    "\n",
    "print(data.shape)\n",
    "data = data.astype(np.float64)\n",
    "\n",
    "def job(params):\n",
    "    start = time()\n",
    "    tsne(data, data_root, mode, initial_dims=params[0], perplexity=10)\n",
    "    print(f'initial_dims={params[0]}, perplexity={params[1]}, {time() - start} seconds')"
   ]
  },
  {
   "cell_type": "code",
   "execution_count": 6,
   "id": "93abaae8-3dbc-4d30-973b-6b9822900e9e",
   "metadata": {},
   "outputs": [
    {
     "name": "stderr",
     "output_type": "stream",
     "text": [
      "/Users/dgoodwin/Downloads/AudioNotebooks-py3/utils/bhtsne.py:75: ComplexWarning: Casting complex values to real discards the imaginary part\n",
      "  data_file.write(pack(f'{len(sample)}d', *sample))\n"
     ]
    },
    {
     "name": "stdout",
     "output_type": "stream",
     "text": [
      "Read the 459 x 30 data matrix successfully!\n",
      "Using current time as random seed...\n",
      "Using no_dims = 2, perplexity = 10.000000, and theta = 0.500000\n",
      "Computing input similarities...\n",
      "Building tree...\n",
      " - point 0 of 459\n",
      "Input similarities computed in 0.01 seconds (sparsity = 0.095196)!\n",
      "Learning embedding...\n",
      "Iteration 50: error is 66.239345 (50 iterations in 0.07 seconds)\n",
      "Iteration 100: error is 63.745635 (50 iterations in 0.07 seconds)\n",
      "Iteration 150: error is 63.434117 (50 iterations in 0.06 seconds)\n",
      "Iteration 200: error is 63.348118 (50 iterations in 0.06 seconds)\n",
      "Iteration 250: error is 2.792637 (50 iterations in 0.06 seconds)\n",
      "Iteration 300: error is 0.820472 (50 iterations in 0.07 seconds)\n",
      "Iteration 350: error is 0.713146 (50 iterations in 0.07 seconds)\n",
      "Iteration 400: error is 0.689981 (50 iterations in 0.07 seconds)\n",
      "Iteration 450: error is 0.673516 (50 iterations in 0.07 seconds)\n",
      "Iteration 500: error is 0.666655 (50 iterations in 0.07 seconds)\n",
      "Iteration 550: error is 0.660601 (50 iterations in 0.07 seconds)\n",
      "Iteration 600: error is 0.652691 (50 iterations in 0.07 seconds)\n",
      "Iteration 650: error is 0.646201 (50 iterations in 0.07 seconds)\n",
      "Iteration 700: error is 0.640921 (50 iterations in 0.07 seconds)\n",
      "Iteration 750: error is 0.638629 (50 iterations in 0.07 seconds)\n",
      "Iteration 800: error is 0.637761 (50 iterations in 0.07 seconds)\n",
      "Iteration 850: error is 0.635257 (50 iterations in 0.07 seconds)\n",
      "Iteration 900: error is 0.634676 (50 iterations in 0.07 seconds)\n",
      "Iteration 950: error is 0.632624 (50 iterations in 0.07 seconds)\n",
      "Iteration 999: error is 0.631318 (50 iterations in 0.06 seconds)\n",
      "Fitting performed in 1.35 seconds.\n",
      "Wrote the 459 x 2 data matrix successfully!\n",
      "Read the 459 x 30 data matrix successfully!\n",
      "Using current time as random seed...\n",
      "Using no_dims = 3, perplexity = 10.000000, and theta = 0.500000\n",
      "Computing input similarities...\n",
      "Building tree...\n",
      " - point 0 of 459\n",
      "Input similarities computed in 0.01 seconds (sparsity = 0.095196)!\n",
      "Learning embedding...\n",
      "Iteration 50: error is 66.693407 (50 iterations in 0.14 seconds)\n",
      "Iteration 100: error is 63.668642 (50 iterations in 0.11 seconds)\n",
      "Iteration 150: error is 63.388282 (50 iterations in 0.12 seconds)\n",
      "Iteration 200: error is 63.360512 (50 iterations in 0.12 seconds)\n",
      "Iteration 250: error is 2.796208 (50 iterations in 0.12 seconds)\n",
      "Iteration 300: error is 0.776234 (50 iterations in 0.12 seconds)\n",
      "Iteration 350: error is 0.674827 (50 iterations in 0.13 seconds)\n",
      "Iteration 400: error is 0.645868 (50 iterations in 0.12 seconds)\n",
      "Iteration 450: error is 0.630432 (50 iterations in 0.12 seconds)\n",
      "Iteration 500: error is 0.621083 (50 iterations in 0.12 seconds)\n",
      "Iteration 550: error is 0.614455 (50 iterations in 0.13 seconds)\n",
      "Iteration 600: error is 0.609991 (50 iterations in 0.12 seconds)\n",
      "Iteration 650: error is 0.606692 (50 iterations in 0.12 seconds)\n",
      "Iteration 700: error is 0.604857 (50 iterations in 0.12 seconds)\n",
      "Iteration 750: error is 0.602859 (50 iterations in 0.12 seconds)\n",
      "Iteration 800: error is 0.600672 (50 iterations in 0.12 seconds)\n",
      "Iteration 850: error is 0.599574 (50 iterations in 0.12 seconds)\n",
      "Iteration 900: error is 0.598238 (50 iterations in 0.12 seconds)\n",
      "Iteration 950: error is 0.596151 (50 iterations in 0.11 seconds)\n",
      "Iteration 999: error is 0.595630 (50 iterations in 0.12 seconds)\n",
      "Fitting performed in 2.43 seconds.\n",
      "Wrote the 459 x 3 data matrix successfully!\n",
      "initial_dims=30, perplexity=30, 9.58639907836914 seconds\n"
     ]
    }
   ],
   "source": [
    "params = list(itertools.product(initial_dims, perplexities))\n",
    "with Pool() as pool:\n",
    "    pool.map(job, params)"
   ]
  }
 ],
 "metadata": {
  "kernelspec": {
   "display_name": "Python 3 (ipykernel)",
   "language": "python",
   "name": "python3"
  },
  "language_info": {
   "codemirror_mode": {
    "name": "ipython",
    "version": 3
   },
   "file_extension": ".py",
   "mimetype": "text/x-python",
   "name": "python",
   "nbconvert_exporter": "python",
   "pygments_lexer": "ipython3",
   "version": "3.11.2"
  }
 },
 "nbformat": 4,
 "nbformat_minor": 5
}
