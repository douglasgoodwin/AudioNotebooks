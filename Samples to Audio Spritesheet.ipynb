{
 "cells": [
  {
   "cell_type": "code",
   "execution_count": 1,
   "metadata": {},
   "outputs": [],
   "source": [
    "from os.path import join\n",
    "from utils import ffmpeg_save_audio\n",
    "import numpy as np"
   ]
  },
  {
   "cell_type": "code",
   "execution_count": 2,
   "metadata": {},
   "outputs": [],
   "source": [
    "data_root = 'data/drums/'\n",
    "sr = 48000  # this is the samplerate initially used to load the samples\n",
    "total_limit = 1024  # set this to 100 to export 100 samples\n",
    "length_limit = int(sr / 2)  # set this to sr/4 to only export 250ms of audio per sample"
   ]
  },
  {
   "cell_type": "code",
   "execution_count": 4,
   "metadata": {
    "collapsed": false,
    "jupyter": {
     "outputs_hidden": false
    }
   },
   "outputs": [],
   "source": [
    "# Load samples\n",
    "samples = np.load(join(data_root, 'samples.npy'))\n",
    "\n",
    "# Reshape and trim samples\n",
    "y = samples[:total_limit, :length_limit].reshape(-1)"
   ]
  },
  {
   "cell_type": "code",
   "execution_count": 5,
   "metadata": {
    "collapsed": false,
    "jupyter": {
     "outputs_hidden": false
    }
   },
   "outputs": [
    {
     "name": "stdout",
     "output_type": "stream",
     "text": [
      "audio spritesheet saved to data/drums/spritesheet.mp3\n"
     ]
    }
   ],
   "source": [
    "# Save audio spritesheet\n",
    "fout = join(data_root, 'spritesheet.mp3')\n",
    "print(f\"audio spritesheet saved to {fout}\")\n",
    "ffmpeg_save_audio(fout, y, sr)"
   ]
  },
  {
   "cell_type": "code",
   "execution_count": null,
   "metadata": {},
   "outputs": [],
   "source": []
  }
 ],
 "metadata": {
  "kernelspec": {
   "display_name": "Python 3 (ipykernel)",
   "language": "python",
   "name": "python3"
  },
  "language_info": {
   "codemirror_mode": {
    "name": "ipython",
    "version": 3
   },
   "file_extension": ".py",
   "mimetype": "text/x-python",
   "name": "python",
   "nbconvert_exporter": "python",
   "pygments_lexer": "ipython3",
   "version": "3.11.2"
  }
 },
 "nbformat": 4,
 "nbformat_minor": 4
}
