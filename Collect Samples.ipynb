{
 "cells": [
  {
   "cell_type": "markdown",
   "id": "4148033f-2749-401d-8ec0-dff1c6363755",
   "metadata": {},
   "source": [
    "### This tool converts a folder of samples to a big rectangular matrix with one mono sample per row.\n",
    "\n",
    "Samples should be placed in data/drums/. They could be .mp3, .wav, or anything else that ffmpeg can work with. They may be all in one folder, or in nested sub-folders.\n",
    "\n",
    "Change the path below to point to the root directory, e.g., data/mydataset/.\n",
    "\n",
    "The samplerate sr is not necessarily the native samplerate of the samples, it's the samplerate you want to load them at.\n",
    "\n",
    "The output of this notebook is:\n",
    "\n",
    "```\n",
    "- data/drums/durations.txt\n",
    "- data/drums/filenames.txt\n",
    "- data/drums/samples.npy\n",
    "```"
   ]
  },
  {
   "cell_type": "code",
   "execution_count": 1,
   "id": "7652015a-7673-4923-99d2-3e1838745135",
   "metadata": {},
   "outputs": [],
   "source": [
    "import os\n",
    "import numpy as np\n",
    "from os.path import join\n",
    "from utils import list_all_files, ffmpeg_load_audio\n",
    "from pathos.multiprocessing import ProcessingPool as Pool"
   ]
  },
  {
   "cell_type": "code",
   "execution_count": null,
   "id": "a83e57f5-5d8c-4d33-8bf6-331619b8804a",
   "metadata": {},
   "outputs": [],
   "source": [
    "# Parameters\n",
    "data_root = 'data/drums/'\n",
    "sr = 48000\n",
    "max_length = sr * 4  # ignore samples longer than 4 seconds\n",
    "fixed_length = int(sr / 4)  # trim all samples to 250 milliseconds\n",
    "limit = 1000  # set this to 100 to only load the first 100 samples\n",
    "\n",
    "# List all audio files\n",
    "files = list(list_all_files(join(data_root), ['.wav', '.mp3']))\n",
    "print(f\"There are {len(files)} files\")"
   ]
  },
  {
   "cell_type": "code",
   "execution_count": null,
   "id": "12713bb2-d8fb-4245-bba5-e3933c1e3f07",
   "metadata": {},
   "outputs": [],
   "source": [
    "def load_sample(fn, sr=None, max_length=None, fixed_length=None, normalize=True):\n",
    "    if fn == '':  # ignore empty filenames\n",
    "        return None\n",
    "    print(f\"load_sample {fn}\")\n",
    "    audio, _ = ffmpeg_load_audio(fn, sr, mono=True)\n",
    "    duration = len(audio)\n",
    "    if duration == 0:  # ignore zero-length samples\n",
    "        return None\n",
    "    if max_length and duration >= max_length:  # ignore long samples\n",
    "        return None\n",
    "    if fixed_length:\n",
    "        audio.resize(fixed_length)\n",
    "    max_val = np.abs(audio).max()\n",
    "    if max_val == 0:  # ignore completely silent sounds\n",
    "        return None\n",
    "    if normalize:\n",
    "        audio /= max_val\n",
    "    return (fn, audio, duration)\n",
    "\n",
    "def job(fn):\n",
    "    print(f\"job {fn}\")\n",
    "    return load_sample(fn, sr=sr, max_length=max_length, fixed_length=fixed_length)\n",
    "\n",
    "# def runme():\n",
    "#     pool = Pool()\n",
    "\n",
    "#     # %time results = pool.map(job, files[:limit])\n",
    "#     results = pool.map(job, files[:limit])\n",
    "#     print(f'Processed {len(results)} samples')\n",
    "\n",
    "#     valid = [result for result in results if result]\n",
    "#     filenames = [x[0] for x in valid]\n",
    "#     samples = [x[1] for x in valid]\n",
    "#     durations = [x[2] for x in valid]\n",
    "#     samples = np.asarray(samples)\n",
    "    \n",
    "#     np.savetxt(join(data_root, 'filenames.txt'), filenames, fmt='%s')\n",
    "#     np.savetxt(join(data_root, 'durations.txt'), durations, fmt='%i')\n",
    "\n",
    "#     # %time np.save(join(data_root, 'samples.npy'), samples)\n",
    "#     np.save(join(data_root, 'samples.npy'), samples)\n",
    "#     print(f'Saved {len(valid)} samples')"
   ]
  },
  {
   "cell_type": "code",
   "execution_count": null,
   "id": "b4674a22-18dd-453d-9a44-bb029477afaf",
   "metadata": {},
   "outputs": [],
   "source": [
    "# Processing samples\n",
    "pool = Pool()\n",
    "results = pool.map(job, files[:limit])\n",
    "print(f'Processed {len(results)} samples')\n",
    "\n",
    "valid = [result for result in results if result]\n",
    "filenames = [x[0] for x in valid]\n",
    "samples = [x[1] for x in valid]\n",
    "durations = [x[2] for x in valid]\n",
    "samples = np.asarray(samples)\n",
    "\n",
    "np.savetxt(join(data_root, 'filenames.txt'), filenames, fmt='%s')\n",
    "np.savetxt(join(data_root, 'durations.txt'), durations, fmt='%i')\n",
    "np.save(join(data_root, 'samples.npy'), samples)\n",
    "print(f'Saved {len(valid)} samples')"
   ]
  },
  {
   "cell_type": "code",
   "execution_count": null,
   "id": "bb396d48-5be2-4dd7-ad0b-d7b202fb61fd",
   "metadata": {},
   "outputs": [],
   "source": []
  }
 ],
 "metadata": {
  "kernelspec": {
   "display_name": "Python 3 (ipykernel)",
   "language": "python",
   "name": "python3"
  },
  "language_info": {
   "codemirror_mode": {
    "name": "ipython",
    "version": 3
   },
   "file_extension": ".py",
   "mimetype": "text/x-python",
   "name": "python",
   "nbconvert_exporter": "python",
   "pygments_lexer": "ipython3",
   "version": "3.11.2"
  }
 },
 "nbformat": 4,
 "nbformat_minor": 5
}
